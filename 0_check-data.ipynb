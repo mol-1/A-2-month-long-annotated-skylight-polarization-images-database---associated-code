{
 "cells": [
  {
   "cell_type": "markdown",
   "id": "3e7b8725-c7ea-4724-a7ed-9eef280451af",
   "metadata": {
    "tags": []
   },
   "source": [
    "# Check corrupted/incomplete folders and \n",
    "This code takes images from whole images database and test if all files are present, and move wrong one in old/ folder\n",
    "\n",
    "\n",
    "End user can just read this code to see how orientation calibration is done, but it wiil not really help to use the final database.\n",
    "\n",
    "Input : \"ManipeResultats\" folder with heavy, big 64 bits images sorted by acquisition, (not simple to use)\n",
    "\n"
   ]
  },
  {
   "cell_type": "code",
   "execution_count": 11,
   "id": "4d296e96-d085-4c46-8fb5-50bf5f5c8754",
   "metadata": {
    "tags": []
   },
   "outputs": [],
   "source": [
    "#!/usr/bin/env python3\n",
    "# -*- coding: utf-8 -*-\n",
    "\"\"\"\n",
    "@author: leo\n",
    "\"\"\"\n",
    "\n",
    "import os, sys\n",
    "import numpy as np\n",
    "import matplotlib.pyplot as plt\n",
    "import matplotlib.animation as animation\n",
    "from tqdm import trange\n",
    "import skimage.io\n",
    "import skimage.filters\n",
    "#import cv2\n",
    "import time\n",
    "from scipy.spatial.transform import Rotation as R\n",
    "from tqdm import tqdm\n",
    "from p_tqdm import p_map\n",
    "\n",
    "import centroide_images\n",
    "import ephemeride\n",
    "import shutil\n"
   ]
  },
  {
   "cell_type": "markdown",
   "id": "111d036a-b2d5-4c81-b59e-a15bfb3ece2d",
   "metadata": {
    "tags": []
   },
   "source": [
    "### Choose max angle to be cropped with limit_Zenith_Angle and folders paths"
   ]
  },
  {
   "cell_type": "code",
   "execution_count": 2,
   "id": "048c12ef-c3d1-4003-84e4-1efc5159fbfd",
   "metadata": {
    "tags": []
   },
   "outputs": [],
   "source": [
    "limit_Zenith_Angle=np.pi*0.5\n",
    "degrees=np.pi/180\n",
    "path= \"/scratch/lpoughon/ManipeResultats/\" # Input Path\n",
    "out_path=\"/scratch/lpoughon/PolarizedDatabase/\" # Output Path\n",
    "calib_path=\"/scratch/lpoughon/PolarizedDatabase/calib/\" # Calibration Values Path\n",
    "\n",
    "path= \"/scratch/lpoughon/ManipeResultatsJuillet2022/\"# Replace with your \"ManipeResultatsRed\" folder\n",
    "calib_path=\"/scratch/lpoughon/PolarizedDatabaseJ/calib/\"\n",
    "out_path=\"/scratch/lpoughon/PolarizedDatabaseJ/\" # Output Path\n"
   ]
  },
  {
   "cell_type": "code",
   "execution_count": 3,
   "id": "ecf07b5a-d04d-4d8e-b58b-7f63e06b3f7b",
   "metadata": {
    "tags": []
   },
   "outputs": [],
   "source": [
    "def cart2sph2(x,y,z):\n",
    "    \"\"\"\n",
    "    Input: Three NumPy arrays with the n coordinates along the x, y, and z axes of n vectors.\n",
    "    Output: Two NumPy arrays with the n coordinates in azimuth and zenith angle, in radians, \n",
    "    using the convention that zenith_angle is pi/2 if the vector lies in the x-y plane and zero \n",
    "    along the z-axis.\n",
    "    \"\"\"\n",
    "    azimuth = np.arctan2(y,x)\n",
    "    zenith_angle = np.pi/2-np.arctan2(z,np.sqrt(x**2 + y**2))\n",
    "    return azimuth, zenith_angle\n",
    "\n",
    "\n",
    "def sph2cart2(azimuth,zenith_angle):\n",
    "    \"\"\"\n",
    "    Input: Two NumPy arrays with n coordinates in azimuth and zenith angle, in radians, with the convention \n",
    "    that zenith_angle is pi/2 if the vector lies in the x-y plane and zero along the z-axis.\n",
    "    Output: Three NumPy arrays with the n coordinates along the x, y, and z axes of n vectors.\n",
    "    \"\"\"\n",
    "    x = np.cos(np.pi/2-zenith_angle) * np.cos(azimuth)\n",
    "    y = np.cos(np.pi/2-zenith_angle) * np.sin(azimuth)\n",
    "    z = np.sin(np.pi/2-zenith_angle)\n",
    "    return x, y, z\n",
    "\n",
    "#def average_angle(angle1,angle2):\n",
    "#    x=np.cos(angle1)+np.cos(angle2)\n",
    "#    y=np.sin(angle1)+np.sin(angle2)\n",
    "#    return np.arctan2(y,x)\n",
    "\n",
    "def rebin(arr, new_shape): #https://scipython.com/blog/binning-a-2d-array-in-numpy/\n",
    "    shape = (new_shape[0], arr.shape[0] // new_shape[0],\n",
    "             new_shape[1], arr.shape[1] // new_shape[1])\n",
    "    return arr.reshape(shape).mean(-1).mean(1)"
   ]
  },
  {
   "cell_type": "code",
   "execution_count": 4,
   "id": "bb560746-befe-44b3-90db-ff5c3aa61e22",
   "metadata": {
    "tags": []
   },
   "outputs": [],
   "source": [
    "dirs = os.listdir(path) # Listing files in the specified path\n",
    "dirs_files=[]\n",
    "for file in dirs:\n",
    "    if file[-4:]=='.npy': # Keeping only those with the extension \".npy\". \n",
    "        # Normally, they are used to store the absolute path where images are stored.\n",
    "        dirs_files.append(file)\n",
    "dirs_files.sort() # Sorting the files in alphabetical order. Since the format is YYYY-MM-DDTHH-mm-ss.npy,\n",
    "#the files are sorted in chronological order.\n"
   ]
  },
  {
   "cell_type": "code",
   "execution_count": 5,
   "id": "e452a1b5-c82c-4a74-9933-0fc10419fb91",
   "metadata": {
    "tags": []
   },
   "outputs": [],
   "source": [
    "orientation_ENU=np.load(calib_path+'orientation_pixels_ENU.npy')\n",
    "rot_mat=np.load(calib_path+'rot_mat.npy')"
   ]
  },
  {
   "cell_type": "code",
   "execution_count": 6,
   "id": "0c88b2ef-77d0-4e88-9880-6dc479429ba8",
   "metadata": {
    "tags": []
   },
   "outputs": [],
   "source": [
    "sorted_filenames_dict = {}\n",
    "\n",
    "# Populate the dictionary with the sorted filenames\n",
    "for filename in dirs_files:\n",
    "    key = filename.split('T')[0]\n",
    "    if key not in sorted_filenames_dict:\n",
    "        sorted_filenames_dict[key] = []\n",
    "    sorted_filenames_dict[key].append(filename)\n",
    "    "
   ]
  },
  {
   "cell_type": "code",
   "execution_count": 7,
   "id": "794776da-05fe-498f-9318-fb57b1ed5518",
   "metadata": {
    "tags": []
   },
   "outputs": [],
   "source": [
    "eph=ephemeride.ephemerides() #Initialization of the class used to calculate ephemerides."
   ]
  },
  {
   "cell_type": "markdown",
   "id": "4a31ecf7-5253-444f-a05b-684f540b719d",
   "metadata": {},
   "source": [
    "### Function that process image"
   ]
  },
  {
   "cell_type": "code",
   "execution_count": 14,
   "id": "cd211d65-eba8-4580-92df-6af1ed4c273d",
   "metadata": {},
   "outputs": [],
   "source": [
    "np.warnings.filterwarnings('ignore', category=np.VisibleDeprecationWarning)\n",
    "\n",
    "def process_acq(chemins_pos):\n",
    "    chemins=np.load(path+chemins_pos)\n",
    "    i=0\n",
    "    liste=[]\n",
    "    for chemin in chemins:\n",
    "        a=process_image(chemin,i)\n",
    "        if a==-1:\n",
    "            print(chemins_pos)\n",
    "            shutil.move(path+chemins_pos,path+\"old/\"+chemins_pos)\n",
    "            print(\"pas Deplacé \",path+chemins_pos,path+\"old/\"+chemins_pos)\n",
    "        liste.append(a)\n",
    "        i+=1\n",
    "    return liste\n",
    "\n",
    "def process_image(chemin,i_eme_image):\n",
    "    try:\n",
    "        #faire une boucle for sur chemins !\n",
    "        png_raw_name=path+chemin.split('ManipeResultats/')[1] #Reconstruct the path of each image by keeping only the end \n",
    "        #of the path and adapting it to the system where the processing is done.\n",
    "        liste_expo=np.load(png_raw_name+\"liste_expo\"+'.npy') # Loading exposure times associated with images\n",
    "        config_monture=np.load(png_raw_name+\"config_monture.npy\")\n",
    "\n",
    "        (Psi_sun,Theta_sun)=eph.getAltAzSoleil(chemin.split('ManipeResultats/')[1]) # Ephemerids\n",
    "        (Ha_sun,Dec_sun)=eph.getHADecSoleil(chemin.split('ManipeResultats/')[1]) \n",
    "        chainetps=chemin.split('ManipeResultats/')[1]\n",
    "        chaineheure=chainetps.split(\"T\")[1][0:-1].split(\"-\")\n",
    "\n",
    "        chainedate=chainetps.split('T')[0]\n",
    "\n",
    "        heure_image=ephemeride.Time(chainetps.split(\"T\")[0]+'T'+chaineheure[0]+\":\"+chaineheure[1]+\":\"+chaineheure[2])\n",
    "\n",
    "        if int(chaineheure[0])<6 or int(chaineheure[0])>21: # Keeping only images that are over the day and do not include the most of the ones by night.\n",
    "            #print(\"continue : hours out of range : \"+str(chaineheure))\n",
    "            return None\n",
    "\n",
    "        image_tot=np.load(png_raw_name+str(i_eme_image)+'.npy').astype('int64') # Loading image\n",
    "        \n",
    "    except Exception as e:\n",
    "        print(\"Erreur :\")\n",
    "        print(e)\n",
    "\n",
    "        return -1"
   ]
  },
  {
   "cell_type": "markdown",
   "id": "6d41bb03-8dfc-4615-9eca-865d04b6bab8",
   "metadata": {},
   "source": [
    "# Processing of images\n",
    "As we are using multiprocessing python package, please ajust \"num_processes\" variables to the number of CPU cores on your computer"
   ]
  },
  {
   "cell_type": "code",
   "execution_count": 15,
   "id": "771b24b6-948c-417b-a517-a6af2fec21fc",
   "metadata": {
    "tags": []
   },
   "outputs": [
    {
     "name": "stdout",
     "output_type": "stream",
     "text": [
      "2022-07-06\n"
     ]
    },
    {
     "name": "stderr",
     "output_type": "stream",
     "text": [
      "100%|██████████████████████████████████████████████████████████████████████████████████████████████████████████████████████████████████████████████████████████████████████| 58/58 [00:07<00:00,  7.86it/s]\n"
     ]
    },
    {
     "name": "stdout",
     "output_type": "stream",
     "text": [
      "Elapsed Time :  7.757348537445068\n",
      "2022-07-07\n"
     ]
    },
    {
     "name": "stderr",
     "output_type": "stream",
     "text": [
      "100%|████████████████████████████████████████████████████████████████████████████████████████████████████████████████████████████████████████████████████████████████████| 139/139 [00:15<00:00,  9.07it/s]\n"
     ]
    },
    {
     "name": "stdout",
     "output_type": "stream",
     "text": [
      "Elapsed Time :  15.93193793296814\n",
      "2022-07-08\n"
     ]
    },
    {
     "name": "stderr",
     "output_type": "stream",
     "text": [
      "100%|████████████████████████████████████████████████████████████████████████████████████████████████████████████████████████████████████████████████████████████████████| 143/143 [00:18<00:00,  7.68it/s]\n"
     ]
    },
    {
     "name": "stdout",
     "output_type": "stream",
     "text": [
      "Elapsed Time :  19.21431565284729\n",
      "2022-07-09\n"
     ]
    },
    {
     "name": "stderr",
     "output_type": "stream",
     "text": [
      "100%|████████████████████████████████████████████████████████████████████████████████████████████████████████████████████████████████████████████████████████████████████| 144/144 [00:23<00:00,  6.24it/s]\n"
     ]
    },
    {
     "name": "stdout",
     "output_type": "stream",
     "text": [
      "Elapsed Time :  23.736467599868774\n",
      "2022-07-10\n"
     ]
    },
    {
     "name": "stderr",
     "output_type": "stream",
     "text": [
      " 15%|████████████████████████▋                                                                                                                                            | 20/134 [00:05<00:20,  5.68it/s]"
     ]
    },
    {
     "name": "stdout",
     "output_type": "stream",
     "text": [
      "Erreur :\n",
      "[Errno 2] No such file or directory: '/scratch/lpoughon/ManipeResultatsJuillet2022/2022-07-10T14-30-22/liste_expo.npy'\n",
      "2022-07-10T14-30-13.npy\n",
      "pas Deplacé  /scratch/lpoughon/ManipeResultatsJuillet2022/2022-07-10T14-30-13.npy /scratch/lpoughon/ManipeResultatsJuillet2022/old/2022-07-10T14-30-13.npy\n"
     ]
    },
    {
     "name": "stderr",
     "output_type": "stream",
     "text": [
      "100%|████████████████████████████████████████████████████████████████████████████████████████████████████████████████████████████████████████████████████████████████████| 134/134 [00:20<00:00,  6.59it/s]\n"
     ]
    },
    {
     "name": "stdout",
     "output_type": "stream",
     "text": [
      "Elapsed Time :  20.97515344619751\n",
      "2022-07-11\n"
     ]
    },
    {
     "name": "stderr",
     "output_type": "stream",
     "text": [
      "  0%|                                                                                                                                                                              | 0/144 [00:00<?, ?it/s]"
     ]
    },
    {
     "name": "stdout",
     "output_type": "stream",
     "text": [
      "Erreur :\n",
      "[Errno 2] No such file or directory: '/scratch/lpoughon/ManipeResultatsJuillet2022/2022-07-11T08-40-22/liste_expo.npy'\n",
      "2022-07-11T08-40-13.npy\n",
      "pas Deplacé  /scratch/lpoughon/ManipeResultatsJuillet2022/2022-07-11T08-40-13.npy /scratch/lpoughon/ManipeResultatsJuillet2022/old/2022-07-11T08-40-13.npy\n",
      "Erreur :\n",
      "[Errno 2] No such file or directory: '/scratch/lpoughon/ManipeResultatsJuillet2022/2022-07-11T07-10-21/liste_expo.npy'\n",
      "2022-07-11T07-10-13.npy\n",
      "pas Deplacé  /scratch/lpoughon/ManipeResultatsJuillet2022/2022-07-11T07-10-13.npy /scratch/lpoughon/ManipeResultatsJuillet2022/old/2022-07-11T07-10-13.npy\n",
      "Erreur :\n",
      "[Errno 2] No such file or directory: '/scratch/lpoughon/ManipeResultatsJuillet2022/2022-07-11T08-10-21/liste_expo.npy'\n",
      "2022-07-11T08-10-13.npy\n",
      "pas Deplacé  /scratch/lpoughon/ManipeResultatsJuillet2022/2022-07-11T08-10-13.npy /scratch/lpoughon/ManipeResultatsJuillet2022/old/2022-07-11T08-10-13.npy\n"
     ]
    },
    {
     "name": "stderr",
     "output_type": "stream",
     "text": [
      " 10%|█████████████████▏                                                                                                                                                   | 15/144 [00:08<00:44,  2.92it/s]"
     ]
    },
    {
     "name": "stdout",
     "output_type": "stream",
     "text": [
      "Erreur :\n",
      "[Errno 2] No such file or directory: '/scratch/lpoughon/ManipeResultatsJuillet2022/2022-07-11T11-50-21/liste_expo.npy'\n",
      "2022-07-11T11-50-12.npy\n",
      "pas Deplacé  /scratch/lpoughon/ManipeResultatsJuillet2022/2022-07-11T11-50-12.npy /scratch/lpoughon/ManipeResultatsJuillet2022/old/2022-07-11T11-50-12.npy\n"
     ]
    },
    {
     "name": "stderr",
     "output_type": "stream",
     "text": [
      " 18%|█████████████████████████████▊                                                                                                                                       | 26/144 [00:09<00:20,  5.64it/s]"
     ]
    },
    {
     "name": "stdout",
     "output_type": "stream",
     "text": [
      "Erreur :\n",
      "[Errno 2] No such file or directory: '/scratch/lpoughon/ManipeResultatsJuillet2022/2022-07-11T13-20-22/liste_expo.npy'\n",
      "2022-07-11T13-20-13.npy\n",
      "pas Deplacé  /scratch/lpoughon/ManipeResultatsJuillet2022/2022-07-11T13-20-13.npy /scratch/lpoughon/ManipeResultatsJuillet2022/old/2022-07-11T13-20-13.npy\n"
     ]
    },
    {
     "name": "stderr",
     "output_type": "stream",
     "text": [
      " 20%|█████████████████████████████████▏                                                                                                                                   | 29/144 [00:09<00:18,  6.24it/s]"
     ]
    },
    {
     "name": "stdout",
     "output_type": "stream",
     "text": [
      "Erreur :\n",
      "[Errno 2] No such file or directory: '/scratch/lpoughon/ManipeResultatsJuillet2022/2022-07-11T16-40-21/liste_expo.npy'\n",
      "2022-07-11T16-40-12.npy\n",
      "pas Deplacé  /scratch/lpoughon/ManipeResultatsJuillet2022/2022-07-11T16-40-12.npy /scratch/lpoughon/ManipeResultatsJuillet2022/old/2022-07-11T16-40-12.npy\n",
      "Erreur :\n",
      "[Errno 2] No such file or directory: '/scratch/lpoughon/ManipeResultatsJuillet2022/2022-07-11T17-20-22/liste_expo.npy'\n",
      "2022-07-11T17-20-13.npy\n",
      "pas Deplacé  /scratch/lpoughon/ManipeResultatsJuillet2022/2022-07-11T17-20-13.npy /scratch/lpoughon/ManipeResultatsJuillet2022/old/2022-07-11T17-20-13.npy\n",
      "Erreur :\n",
      "[Errno 2] No such file or directory: '/scratch/lpoughon/ManipeResultatsJuillet2022/2022-07-11T18-30-21/liste_expo.npy'\n",
      "2022-07-11T18-30-13.npy\n",
      "pas Deplacé  /scratch/lpoughon/ManipeResultatsJuillet2022/2022-07-11T18-30-13.npy /scratch/lpoughon/ManipeResultatsJuillet2022/old/2022-07-11T18-30-13.npy\n"
     ]
    },
    {
     "name": "stderr",
     "output_type": "stream",
     "text": [
      "100%|████████████████████████████████████████████████████████████████████████████████████████████████████████████████████████████████████████████████████████████████████| 144/144 [00:28<00:00,  4.98it/s]\n"
     ]
    },
    {
     "name": "stdout",
     "output_type": "stream",
     "text": [
      "Elapsed Time :  29.6839382648468\n",
      "2022-07-12\n"
     ]
    },
    {
     "name": "stderr",
     "output_type": "stream",
     "text": [
      "  0%|                                                                                                                                                                              | 0/143 [00:00<?, ?it/s]"
     ]
    },
    {
     "name": "stdout",
     "output_type": "stream",
     "text": [
      "Erreur :\n",
      "[Errno 2] No such file or directory: '/scratch/lpoughon/ManipeResultatsJuillet2022/2022-07-12T07-30-21/liste_expo.npy'\n",
      "2022-07-12T07-30-12.npy\n",
      "pas Deplacé  /scratch/lpoughon/ManipeResultatsJuillet2022/2022-07-12T07-30-12.npy /scratch/lpoughon/ManipeResultatsJuillet2022/old/2022-07-12T07-30-12.npy\n"
     ]
    },
    {
     "name": "stderr",
     "output_type": "stream",
     "text": [
      "  5%|████████▏                                                                                                                                                             | 7/143 [00:07<01:51,  1.22it/s]"
     ]
    },
    {
     "name": "stdout",
     "output_type": "stream",
     "text": [
      "Erreur :\n",
      "[Errno 2] No such file or directory: '/scratch/lpoughon/ManipeResultatsJuillet2022/2022-07-12T16-00-21/liste_expo.npy'\n",
      "2022-07-12T16-00-13.npy\n",
      "pas Deplacé  /scratch/lpoughon/ManipeResultatsJuillet2022/2022-07-12T16-00-13.npy /scratch/lpoughon/ManipeResultatsJuillet2022/old/2022-07-12T16-00-13.npy\n",
      "Erreur :\n",
      "[Errno 2] No such file or directory: '/scratch/lpoughon/ManipeResultatsJuillet2022/2022-07-12T16-20-21/liste_expo.npy'\n",
      "2022-07-12T16-20-13.npy\n",
      "pas Deplacé  /scratch/lpoughon/ManipeResultatsJuillet2022/2022-07-12T16-20-13.npy /scratch/lpoughon/ManipeResultatsJuillet2022/old/2022-07-12T16-20-13.npy\n"
     ]
    },
    {
     "name": "stderr",
     "output_type": "stream",
     "text": [
      " 44%|████████████████████████████████████████████████████████████████████████▋                                                                                            | 63/143 [00:18<00:14,  5.48it/s]"
     ]
    },
    {
     "name": "stdout",
     "output_type": "stream",
     "text": [
      "Erreur :\n",
      "[Errno 2] No such file or directory: '/scratch/lpoughon/ManipeResultatsJuillet2022/2022-07-12T20-20-22/liste_expo.npy'\n",
      "2022-07-12T20-20-13.npy\n",
      "pas Deplacé  /scratch/lpoughon/ManipeResultatsJuillet2022/2022-07-12T20-20-13.npy /scratch/lpoughon/ManipeResultatsJuillet2022/old/2022-07-12T20-20-13.npy\n"
     ]
    },
    {
     "name": "stderr",
     "output_type": "stream",
     "text": [
      "100%|████████████████████████████████████████████████████████████████████████████████████████████████████████████████████████████████████████████████████████████████████| 143/143 [00:27<00:00,  5.19it/s]\n"
     ]
    },
    {
     "name": "stdout",
     "output_type": "stream",
     "text": [
      "Elapsed Time :  28.13049006462097\n",
      "2022-07-13\n"
     ]
    },
    {
     "name": "stderr",
     "output_type": "stream",
     "text": [
      "  0%|                                                                    | 0/144 [00:00<?, ?it/s]"
     ]
    },
    {
     "name": "stdout",
     "output_type": "stream",
     "text": [
      "Erreur :\n",
      "[Errno 2] No such file or directory: '/scratch/lpoughon/ManipeResultatsJuillet2022/2022-07-13T07-10-21/liste_expo.npy'\n",
      "2022-07-13T07-10-12.npy\n",
      "pas Deplacé  /scratch/lpoughon/ManipeResultatsJuillet2022/2022-07-13T07-10-12.npy /scratch/lpoughon/ManipeResultatsJuillet2022/old/2022-07-13T07-10-12.npy\n",
      "Erreur :\n",
      "[Errno 2] No such file or directory: '/scratch/lpoughon/ManipeResultatsJuillet2022/2022-07-13T09-20-21/liste_expo.npy'\n",
      "2022-07-13T09-20-13.npy\n",
      "pas Deplacé  /scratch/lpoughon/ManipeResultatsJuillet2022/2022-07-13T09-20-13.npy /scratch/lpoughon/ManipeResultatsJuillet2022/old/2022-07-13T09-20-13.npy\n",
      "Erreur :\n",
      "[Errno 2] No such file or directory: '/scratch/lpoughon/ManipeResultatsJuillet2022/2022-07-13T08-40-22/liste_expo.npy'\n",
      "2022-07-13T08-40-13.npy\n",
      "pas Deplacé  /scratch/lpoughon/ManipeResultatsJuillet2022/2022-07-13T08-40-13.npy /scratch/lpoughon/ManipeResultatsJuillet2022/old/2022-07-13T08-40-13.npy\n"
     ]
    },
    {
     "name": "stderr",
     "output_type": "stream",
     "text": [
      "  1%|▊                                                           | 2/144 [00:08<08:10,  3.45s/it]"
     ]
    },
    {
     "name": "stdout",
     "output_type": "stream",
     "text": [
      "Erreur :\n",
      "[Errno 2] No such file or directory: '/scratch/lpoughon/ManipeResultatsJuillet2022/2022-07-13T13-30-21/liste_expo.npy'\n",
      "2022-07-13T13-30-13.npy\n",
      "pas Deplacé  /scratch/lpoughon/ManipeResultatsJuillet2022/2022-07-13T13-30-13.npy /scratch/lpoughon/ManipeResultatsJuillet2022/old/2022-07-13T13-30-13.npy\n",
      "Erreur :\n",
      "[Errno 2] No such file or directory: '/scratch/lpoughon/ManipeResultatsJuillet2022/2022-07-13T12-20-21/liste_expo.npy'\n",
      "2022-07-13T12-20-13.npy\n",
      "pas Deplacé  /scratch/lpoughon/ManipeResultatsJuillet2022/2022-07-13T12-20-13.npy /scratch/lpoughon/ManipeResultatsJuillet2022/old/2022-07-13T12-20-13.npy\n"
     ]
    },
    {
     "name": "stderr",
     "output_type": "stream",
     "text": [
      "  4%|██▌                                                         | 6/144 [00:11<03:12,  1.40s/it]"
     ]
    },
    {
     "name": "stdout",
     "output_type": "stream",
     "text": [
      "Erreur :\n",
      "[Errno 2] No such file or directory: '/scratch/lpoughon/ManipeResultatsJuillet2022/2022-07-13T17-10-21/liste_expo.npy'\n",
      "2022-07-13T17-10-12.npy\n",
      "pas Deplacé  /scratch/lpoughon/ManipeResultatsJuillet2022/2022-07-13T17-10-12.npy /scratch/lpoughon/ManipeResultatsJuillet2022/old/2022-07-13T17-10-12.npy\n",
      "Erreur :\n",
      "[Errno 2] No such file or directory: '/scratch/lpoughon/ManipeResultatsJuillet2022/2022-07-13T16-50-21/liste_expo.npy'\n",
      "2022-07-13T16-50-13.npy\n",
      "pas Deplacé  /scratch/lpoughon/ManipeResultatsJuillet2022/2022-07-13T16-50-13.npy /scratch/lpoughon/ManipeResultatsJuillet2022/old/2022-07-13T16-50-13.npy\n"
     ]
    },
    {
     "name": "stderr",
     "output_type": "stream",
     "text": [
      " 47%|███████████████████████████▍                               | 67/144 [00:23<00:15,  4.96it/s]"
     ]
    },
    {
     "name": "stdout",
     "output_type": "stream",
     "text": [
      "Erreur :\n",
      "[Errno 2] No such file or directory: '/scratch/lpoughon/ManipeResultatsJuillet2022/2022-07-13T21-00-22/liste_expo.npy'\n",
      "2022-07-13T21-00-13.npy\n",
      "pas Deplacé  /scratch/lpoughon/ManipeResultatsJuillet2022/2022-07-13T21-00-13.npy /scratch/lpoughon/ManipeResultatsJuillet2022/old/2022-07-13T21-00-13.npy\n"
     ]
    },
    {
     "name": "stderr",
     "output_type": "stream",
     "text": [
      "100%|██████████████████████████████████████████████████████████| 144/144 [00:31<00:00,  4.63it/s]\n"
     ]
    },
    {
     "name": "stdout",
     "output_type": "stream",
     "text": [
      "Elapsed Time :  31.76123332977295\n",
      "2022-07-14\n"
     ]
    },
    {
     "name": "stderr",
     "output_type": "stream",
     "text": [
      "  7%|████▏                                                      | 10/143 [00:10<01:17,  1.72it/s]"
     ]
    },
    {
     "name": "stdout",
     "output_type": "stream",
     "text": [
      "Erreur :\n",
      "[Errno 2] No such file or directory: '/scratch/lpoughon/ManipeResultatsJuillet2022/2022-07-14T12-40-22/liste_expo.npy'\n",
      "2022-07-14T12-40-13.npy\n",
      "pas Deplacé  /scratch/lpoughon/ManipeResultatsJuillet2022/2022-07-14T12-40-13.npy /scratch/lpoughon/ManipeResultatsJuillet2022/old/2022-07-14T12-40-13.npy\n",
      "Erreur :\n",
      "[Errno 2] No such file or directory: '/scratch/lpoughon/ManipeResultatsJuillet2022/2022-07-14T12-00-22/liste_expo.npy'\n",
      "2022-07-14T12-00-13.npy\n",
      "pas Deplacé  /scratch/lpoughon/ManipeResultatsJuillet2022/2022-07-14T12-00-13.npy /scratch/lpoughon/ManipeResultatsJuillet2022/old/2022-07-14T12-00-13.npy\n"
     ]
    },
    {
     "name": "stderr",
     "output_type": "stream",
     "text": [
      "100%|██████████████████████████████████████████████████████████| 143/143 [00:32<00:00,  4.34it/s]\n"
     ]
    },
    {
     "name": "stdout",
     "output_type": "stream",
     "text": [
      "Elapsed Time :  33.65776586532593\n",
      "2022-07-15\n"
     ]
    },
    {
     "name": "stderr",
     "output_type": "stream",
     "text": [
      "  0%|                                                                    | 0/144 [00:00<?, ?it/s]"
     ]
    },
    {
     "name": "stdout",
     "output_type": "stream",
     "text": [
      "Erreur :\n",
      "[Errno 2] No such file or directory: '/scratch/lpoughon/ManipeResultatsJuillet2022/2022-07-15T08-50-21/liste_expo.npy'\n",
      "2022-07-15T08-50-12.npy\n",
      "pas Deplacé  /scratch/lpoughon/ManipeResultatsJuillet2022/2022-07-15T08-50-12.npy /scratch/lpoughon/ManipeResultatsJuillet2022/old/2022-07-15T08-50-12.npy\n"
     ]
    },
    {
     "name": "stderr",
     "output_type": "stream",
     "text": [
      " 40%|███████████████████████▊                                   | 58/144 [00:23<00:23,  3.72it/s]"
     ]
    },
    {
     "name": "stdout",
     "output_type": "stream",
     "text": [
      "Erreur :\n",
      "[Errno 2] No such file or directory: '/scratch/lpoughon/ManipeResultatsJuillet2022/2022-07-15T20-20-22/liste_expo.npy'\n",
      "2022-07-15T20-20-13.npy\n",
      "pas Deplacé  /scratch/lpoughon/ManipeResultatsJuillet2022/2022-07-15T20-20-13.npy /scratch/lpoughon/ManipeResultatsJuillet2022/old/2022-07-15T20-20-13.npy\n"
     ]
    },
    {
     "name": "stderr",
     "output_type": "stream",
     "text": [
      "100%|██████████████████████████████████████████████████████████| 144/144 [00:31<00:00,  4.59it/s]\n"
     ]
    },
    {
     "name": "stdout",
     "output_type": "stream",
     "text": [
      "Elapsed Time :  32.05362296104431\n",
      "2022-07-16\n"
     ]
    },
    {
     "name": "stderr",
     "output_type": "stream",
     "text": [
      "  0%|                                                                    | 0/144 [00:00<?, ?it/s]"
     ]
    },
    {
     "name": "stdout",
     "output_type": "stream",
     "text": [
      "Erreur :\n",
      "[Errno 2] No such file or directory: '/scratch/lpoughon/ManipeResultatsJuillet2022/2022-07-16T06-30-21/liste_expo.npy'\n",
      "2022-07-16T06-30-13.npy\n",
      "pas Deplacé  /scratch/lpoughon/ManipeResultatsJuillet2022/2022-07-16T06-30-13.npy /scratch/lpoughon/ManipeResultatsJuillet2022/old/2022-07-16T06-30-13.npy\n"
     ]
    },
    {
     "name": "stderr",
     "output_type": "stream",
     "text": [
      " 13%|███████▊                                                   | 19/144 [00:07<00:23,  5.36it/s]"
     ]
    },
    {
     "name": "stdout",
     "output_type": "stream",
     "text": [
      "Erreur :\n",
      "[Errno 2] No such file or directory: '/scratch/lpoughon/ManipeResultatsJuillet2022/2022-07-16T10-50-21/liste_expo.npy'\n",
      "2022-07-16T10-50-13.npy\n",
      "pas Deplacé  /scratch/lpoughon/ManipeResultatsJuillet2022/2022-07-16T10-50-13.npy /scratch/lpoughon/ManipeResultatsJuillet2022/old/2022-07-16T10-50-13.npy\n"
     ]
    },
    {
     "name": "stderr",
     "output_type": "stream",
     "text": [
      " 20%|███████████▉                                               | 29/144 [00:09<00:23,  4.82it/s]"
     ]
    },
    {
     "name": "stdout",
     "output_type": "stream",
     "text": [
      "Erreur :\n",
      "[Errno 2] No such file or directory: '/scratch/lpoughon/ManipeResultatsJuillet2022/2022-07-16T12-40-21/liste_expo.npy'\n",
      "2022-07-16T12-40-12.npy\n",
      "pas Deplacé  /scratch/lpoughon/ManipeResultatsJuillet2022/2022-07-16T12-40-12.npy /scratch/lpoughon/ManipeResultatsJuillet2022/old/2022-07-16T12-40-12.npy\n",
      "Erreur :\n",
      "[Errno 2] No such file or directory: '/scratch/lpoughon/ManipeResultatsJuillet2022/2022-07-16T15-20-22/liste_expo.npy'\n",
      "2022-07-16T15-20-13.npy\n",
      "pas Deplacé  /scratch/lpoughon/ManipeResultatsJuillet2022/2022-07-16T15-20-13.npy /scratch/lpoughon/ManipeResultatsJuillet2022/old/2022-07-16T15-20-13.npy\n"
     ]
    },
    {
     "name": "stderr",
     "output_type": "stream",
     "text": [
      " 26%|███████████████▏                                           | 37/144 [00:19<01:03,  1.70it/s]"
     ]
    },
    {
     "name": "stdout",
     "output_type": "stream",
     "text": [
      "Erreur :\n",
      "[Errno 2] No such file or directory: '/scratch/lpoughon/ManipeResultatsJuillet2022/2022-07-16T19-50-21/liste_expo.npy'\n",
      "2022-07-16T19-50-13.npy\n",
      "pas Deplacé  /scratch/lpoughon/ManipeResultatsJuillet2022/2022-07-16T19-50-13.npy /scratch/lpoughon/ManipeResultatsJuillet2022/old/2022-07-16T19-50-13.npy\n",
      "Erreur :\n",
      "[Errno 2] No such file or directory: '/scratch/lpoughon/ManipeResultatsJuillet2022/2022-07-16T20-20-21/liste_expo.npy'\n",
      "2022-07-16T20-20-13.npy\n",
      "pas Deplacé  /scratch/lpoughon/ManipeResultatsJuillet2022/2022-07-16T20-20-13.npy /scratch/lpoughon/ManipeResultatsJuillet2022/old/2022-07-16T20-20-13.npy\n"
     ]
    },
    {
     "name": "stderr",
     "output_type": "stream",
     "text": [
      "100%|██████████████████████████████████████████████████████████| 144/144 [00:36<00:00,  3.94it/s]\n"
     ]
    },
    {
     "name": "stdout",
     "output_type": "stream",
     "text": [
      "Elapsed Time :  37.20628261566162\n",
      "2022-07-17\n"
     ]
    },
    {
     "name": "stderr",
     "output_type": "stream",
     "text": [
      "  0%|                                                                    | 0/144 [00:00<?, ?it/s]"
     ]
    },
    {
     "name": "stdout",
     "output_type": "stream",
     "text": [
      "Erreur :\n",
      "[Errno 2] No such file or directory: '/scratch/lpoughon/ManipeResultatsJuillet2022/2022-07-17T10-30-21/liste_expo.npy'\n",
      "2022-07-17T10-30-13.npy\n",
      "pas Deplacé  /scratch/lpoughon/ManipeResultatsJuillet2022/2022-07-17T10-30-13.npy /scratch/lpoughon/ManipeResultatsJuillet2022/old/2022-07-17T10-30-13.npy\n",
      "Erreur :\n",
      "[Errno 2] No such file or directory: '/scratch/lpoughon/ManipeResultatsJuillet2022/2022-07-17T06-40-21/liste_expo.npy'\n",
      "2022-07-17T06-40-13.npy\n",
      "pas Deplacé  /scratch/lpoughon/ManipeResultatsJuillet2022/2022-07-17T06-40-13.npy /scratch/lpoughon/ManipeResultatsJuillet2022/old/2022-07-17T06-40-13.npy\n"
     ]
    },
    {
     "name": "stderr",
     "output_type": "stream",
     "text": [
      " 13%|███████▊                                                   | 19/144 [00:07<00:35,  3.56it/s]"
     ]
    },
    {
     "name": "stdout",
     "output_type": "stream",
     "text": [
      "Erreur :\n",
      "[Errno 2] No such file or directory: '/scratch/lpoughon/ManipeResultatsJuillet2022/2022-07-17T16-00-21/liste_expo.npy'\n",
      "2022-07-17T16-00-13.npy\n",
      "pas Deplacé  /scratch/lpoughon/ManipeResultatsJuillet2022/2022-07-17T16-00-13.npy /scratch/lpoughon/ManipeResultatsJuillet2022/old/2022-07-17T16-00-13.npy\n"
     ]
    },
    {
     "name": "stderr",
     "output_type": "stream",
     "text": [
      " 35%|████████████████████▉                                      | 51/144 [00:19<00:28,  3.24it/s]"
     ]
    },
    {
     "name": "stdout",
     "output_type": "stream",
     "text": [
      "Erreur :\n",
      "[Errno 2] No such file or directory: '/scratch/lpoughon/ManipeResultatsJuillet2022/2022-07-17T21-00-22/liste_expo.npy'\n",
      "2022-07-17T21-00-13.npy\n",
      "pas Deplacé  /scratch/lpoughon/ManipeResultatsJuillet2022/2022-07-17T21-00-13.npy /scratch/lpoughon/ManipeResultatsJuillet2022/old/2022-07-17T21-00-13.npy\n",
      "Erreur :\n",
      "[Errno 2] No such file or directory: '/scratch/lpoughon/ManipeResultatsJuillet2022/2022-07-17T20-00-22/liste_expo.npy'\n",
      "2022-07-17T20-00-13.npy\n",
      "pas Deplacé  /scratch/lpoughon/ManipeResultatsJuillet2022/2022-07-17T20-00-13.npy /scratch/lpoughon/ManipeResultatsJuillet2022/old/2022-07-17T20-00-13.npy\n"
     ]
    },
    {
     "name": "stderr",
     "output_type": "stream",
     "text": [
      "100%|██████████████████████████████████████████████████████████| 144/144 [00:29<00:00,  4.92it/s]\n"
     ]
    },
    {
     "name": "stdout",
     "output_type": "stream",
     "text": [
      "Elapsed Time :  29.807185411453247\n",
      "2022-07-18\n"
     ]
    },
    {
     "name": "stderr",
     "output_type": "stream",
     "text": [
      "  0%|                                                                    | 0/144 [00:00<?, ?it/s]"
     ]
    },
    {
     "name": "stdout",
     "output_type": "stream",
     "text": [
      "Erreur :\n",
      "[Errno 2] No such file or directory: '/scratch/lpoughon/ManipeResultatsJuillet2022/2022-07-18T09-10-21/liste_expo.npy'\n",
      "2022-07-18T09-10-13.npy\n",
      "pas Deplacé  /scratch/lpoughon/ManipeResultatsJuillet2022/2022-07-18T09-10-13.npy /scratch/lpoughon/ManipeResultatsJuillet2022/old/2022-07-18T09-10-13.npy\n"
     ]
    },
    {
     "name": "stderr",
     "output_type": "stream",
     "text": [
      " 26%|███████████████▏                                           | 37/144 [00:14<00:33,  3.15it/s]"
     ]
    },
    {
     "name": "stdout",
     "output_type": "stream",
     "text": [
      "Erreur :\n",
      "[Errno 2] No such file or directory: '/scratch/lpoughon/ManipeResultatsJuillet2022/2022-07-18T18-10-21/liste_expo.npy'\n",
      "2022-07-18T18-10-13.npy\n",
      "pas Deplacé  /scratch/lpoughon/ManipeResultatsJuillet2022/2022-07-18T18-10-13.npy /scratch/lpoughon/ManipeResultatsJuillet2022/old/2022-07-18T18-10-13.npy\n"
     ]
    },
    {
     "name": "stderr",
     "output_type": "stream",
     "text": [
      " 33%|███████████████████▋                                       | 48/144 [00:18<00:28,  3.39it/s]"
     ]
    },
    {
     "name": "stdout",
     "output_type": "stream",
     "text": [
      "Erreur :\n",
      "[Errno 2] No such file or directory: '/scratch/lpoughon/ManipeResultatsJuillet2022/2022-07-18T20-40-21/liste_expo.npy'\n",
      "2022-07-18T20-40-13.npy\n",
      "pas Deplacé  /scratch/lpoughon/ManipeResultatsJuillet2022/2022-07-18T20-40-13.npy /scratch/lpoughon/ManipeResultatsJuillet2022/old/2022-07-18T20-40-13.npy\n"
     ]
    },
    {
     "name": "stderr",
     "output_type": "stream",
     "text": [
      "100%|██████████████████████████████████████████████████████████| 144/144 [00:29<00:00,  4.85it/s]\n"
     ]
    },
    {
     "name": "stdout",
     "output_type": "stream",
     "text": [
      "Elapsed Time :  30.204421758651733\n",
      "2022-07-19\n"
     ]
    },
    {
     "name": "stderr",
     "output_type": "stream",
     "text": [
      "  0%|                                                                    | 0/143 [00:00<?, ?it/s]"
     ]
    },
    {
     "name": "stdout",
     "output_type": "stream",
     "text": [
      "Erreur :\n",
      "[Errno 2] No such file or directory: '/scratch/lpoughon/ManipeResultatsJuillet2022/2022-07-19T09-10-21/liste_expo.npy'\n",
      "2022-07-19T09-10-13.npy\n",
      "pas Deplacé  /scratch/lpoughon/ManipeResultatsJuillet2022/2022-07-19T09-10-13.npy /scratch/lpoughon/ManipeResultatsJuillet2022/old/2022-07-19T09-10-13.npy\n",
      "Erreur :\n",
      "[Errno 2] No such file or directory: '/scratch/lpoughon/ManipeResultatsJuillet2022/2022-07-19T09-00-22/liste_expo.npy'\n",
      "2022-07-19T09-00-13.npy\n",
      "pas Deplacé  /scratch/lpoughon/ManipeResultatsJuillet2022/2022-07-19T09-00-13.npy /scratch/lpoughon/ManipeResultatsJuillet2022/old/2022-07-19T09-00-13.npy\n"
     ]
    },
    {
     "name": "stderr",
     "output_type": "stream",
     "text": [
      "  3%|█▋                                                          | 4/143 [00:06<02:36,  1.12s/it]"
     ]
    },
    {
     "name": "stdout",
     "output_type": "stream",
     "text": [
      "Erreur :\n",
      "[Errno 2] No such file or directory: '/scratch/lpoughon/ManipeResultatsJuillet2022/2022-07-19T11-00-22/liste_expo.npy'\n",
      "2022-07-19T11-00-13.npy\n",
      "pas Deplacé  /scratch/lpoughon/ManipeResultatsJuillet2022/2022-07-19T11-00-13.npy /scratch/lpoughon/ManipeResultatsJuillet2022/old/2022-07-19T11-00-13.npy\n",
      "Erreur :\n",
      "[Errno 2] No such file or directory: '/scratch/lpoughon/ManipeResultatsJuillet2022/2022-07-19T11-10-21/liste_expo.npy'\n",
      "2022-07-19T11-10-12.npy\n",
      "pas Deplacé  /scratch/lpoughon/ManipeResultatsJuillet2022/2022-07-19T11-10-12.npy /scratch/lpoughon/ManipeResultatsJuillet2022/old/2022-07-19T11-10-12.npy\n"
     ]
    },
    {
     "name": "stderr",
     "output_type": "stream",
     "text": [
      "  3%|██                                                          | 5/143 [00:08<03:12,  1.39s/it]"
     ]
    },
    {
     "name": "stdout",
     "output_type": "stream",
     "text": [
      "Erreur :\n",
      "[Errno 2] No such file or directory: '/scratch/lpoughon/ManipeResultatsJuillet2022/2022-07-19T11-40-22/liste_expo.npy'\n",
      "2022-07-19T11-40-13.npy\n",
      "pas Deplacé  /scratch/lpoughon/ManipeResultatsJuillet2022/2022-07-19T11-40-13.npy /scratch/lpoughon/ManipeResultatsJuillet2022/old/2022-07-19T11-40-13.npy\n"
     ]
    },
    {
     "name": "stderr",
     "output_type": "stream",
     "text": [
      " 26%|███████████████▎                                           | 37/143 [00:15<00:30,  3.52it/s]"
     ]
    },
    {
     "name": "stdout",
     "output_type": "stream",
     "text": [
      "Erreur :\n",
      "[Errno 2] No such file or directory: '/scratch/lpoughon/ManipeResultatsJuillet2022/2022-07-19T14-20-48/liste_expo.npy'\n",
      "2022-07-19T14-20-13.npy\n",
      "pas Deplacé  /scratch/lpoughon/ManipeResultatsJuillet2022/2022-07-19T14-20-13.npy /scratch/lpoughon/ManipeResultatsJuillet2022/old/2022-07-19T14-20-13.npy\n",
      "Erreur :\n",
      "[Errno 2] No such file or directory: '/scratch/lpoughon/ManipeResultatsJuillet2022/2022-07-19T19-40-21/liste_expo.npy'\n",
      "2022-07-19T19-40-13.npy\n",
      "pas Deplacé  /scratch/lpoughon/ManipeResultatsJuillet2022/2022-07-19T19-40-13.npy /scratch/lpoughon/ManipeResultatsJuillet2022/old/2022-07-19T19-40-13.npy\n"
     ]
    },
    {
     "name": "stderr",
     "output_type": "stream",
     "text": [
      "100%|██████████████████████████████████████████████████████████| 143/143 [00:25<00:00,  5.55it/s]\n"
     ]
    },
    {
     "name": "stdout",
     "output_type": "stream",
     "text": [
      "Elapsed Time :  26.39651370048523\n",
      "2022-07-20\n"
     ]
    },
    {
     "name": "stderr",
     "output_type": "stream",
     "text": [
      "  0%|                                                                    | 0/144 [00:00<?, ?it/s]"
     ]
    },
    {
     "name": "stdout",
     "output_type": "stream",
     "text": [
      "Erreur :\n",
      "[Errno 2] No such file or directory: '/scratch/lpoughon/ManipeResultatsJuillet2022/2022-07-20T08-20-22/liste_expo.npy'\n",
      "2022-07-20T08-20-13.npy\n",
      "pas Deplacé  /scratch/lpoughon/ManipeResultatsJuillet2022/2022-07-20T08-20-13.npy /scratch/lpoughon/ManipeResultatsJuillet2022/old/2022-07-20T08-20-13.npy\n",
      "Erreur :\n",
      "[Errno 2] No such file or directory: '/scratch/lpoughon/ManipeResultatsJuillet2022/2022-07-20T07-40-21/liste_expo.npy'\n",
      "2022-07-20T07-40-13.npy\n",
      "pas Deplacé  /scratch/lpoughon/ManipeResultatsJuillet2022/2022-07-20T07-40-13.npy /scratch/lpoughon/ManipeResultatsJuillet2022/old/2022-07-20T07-40-13.npy\n",
      "Erreur :\n",
      "[Errno 2] No such file or directory: '/scratch/lpoughon/ManipeResultatsJuillet2022/2022-07-20T08-30-21/liste_expo.npy'\n",
      "2022-07-20T08-30-13.npy\n",
      "pas Deplacé  /scratch/lpoughon/ManipeResultatsJuillet2022/2022-07-20T08-30-13.npy /scratch/lpoughon/ManipeResultatsJuillet2022/old/2022-07-20T08-30-13.npy\n",
      "Erreur :\n",
      "[Errno 2] No such file or directory: '/scratch/lpoughon/ManipeResultatsJuillet2022/2022-07-20T09-10-22/liste_expo.npy'\n",
      "2022-07-20T09-10-13.npy\n",
      "pas Deplacé  /scratch/lpoughon/ManipeResultatsJuillet2022/2022-07-20T09-10-13.npy /scratch/lpoughon/ManipeResultatsJuillet2022/old/2022-07-20T09-10-13.npy\n"
     ]
    },
    {
     "name": "stderr",
     "output_type": "stream",
     "text": [
      " 19%|███████████▍                                               | 28/144 [00:11<00:20,  5.62it/s]"
     ]
    },
    {
     "name": "stdout",
     "output_type": "stream",
     "text": [
      "Erreur :\n",
      "[Errno 2] No such file or directory: '/scratch/lpoughon/ManipeResultatsJuillet2022/2022-07-20T12-50-22/liste_expo.npy'\n",
      "2022-07-20T12-50-13.npy\n",
      "pas Deplacé  /scratch/lpoughon/ManipeResultatsJuillet2022/2022-07-20T12-50-13.npy /scratch/lpoughon/ManipeResultatsJuillet2022/old/2022-07-20T12-50-13.npy\n",
      "Erreur :\n",
      "[Errno 2] No such file or directory: '/scratch/lpoughon/ManipeResultatsJuillet2022/2022-07-20T18-30-21/liste_expo.npy'\n",
      "2022-07-20T18-30-12.npy\n",
      "pas Deplacé  /scratch/lpoughon/ManipeResultatsJuillet2022/2022-07-20T18-30-12.npy /scratch/lpoughon/ManipeResultatsJuillet2022/old/2022-07-20T18-30-12.npy\n"
     ]
    },
    {
     "name": "stderr",
     "output_type": "stream",
     "text": [
      " 26%|███████████████▏                                           | 37/144 [00:23<00:57,  1.88it/s]"
     ]
    },
    {
     "name": "stdout",
     "output_type": "stream",
     "text": [
      "Erreur :\n",
      "[Errno 2] No such file or directory: '/scratch/lpoughon/ManipeResultatsJuillet2022/2022-07-20T19-30-21/liste_expo.npy'\n",
      "2022-07-20T19-30-13.npy\n",
      "pas Deplacé  /scratch/lpoughon/ManipeResultatsJuillet2022/2022-07-20T19-30-13.npy /scratch/lpoughon/ManipeResultatsJuillet2022/old/2022-07-20T19-30-13.npy\n"
     ]
    },
    {
     "name": "stderr",
     "output_type": "stream",
     "text": [
      "100%|██████████████████████████████████████████████████████████| 144/144 [00:32<00:00,  4.48it/s]\n"
     ]
    },
    {
     "name": "stdout",
     "output_type": "stream",
     "text": [
      "Elapsed Time :  32.70661783218384\n",
      "2022-07-21\n"
     ]
    },
    {
     "name": "stderr",
     "output_type": "stream",
     "text": [
      "  0%|                                                                    | 0/144 [00:00<?, ?it/s]"
     ]
    },
    {
     "name": "stdout",
     "output_type": "stream",
     "text": [
      "Erreur :\n",
      "[Errno 2] No such file or directory: '/scratch/lpoughon/ManipeResultatsJuillet2022/2022-07-21T10-40-21/liste_expo.npy'\n",
      "2022-07-21T10-40-13.npy\n",
      "pas Deplacé  /scratch/lpoughon/ManipeResultatsJuillet2022/2022-07-21T10-40-13.npy /scratch/lpoughon/ManipeResultatsJuillet2022/old/2022-07-21T10-40-13.npy\n"
     ]
    },
    {
     "name": "stderr",
     "output_type": "stream",
     "text": [
      "100%|██████████████████████████████████████████████████████████| 144/144 [00:28<00:00,  5.02it/s]\n"
     ]
    },
    {
     "name": "stdout",
     "output_type": "stream",
     "text": [
      "Elapsed Time :  29.27849507331848\n",
      "2022-07-22\n"
     ]
    },
    {
     "name": "stderr",
     "output_type": "stream",
     "text": [
      "  0%|                                                                    | 0/144 [00:00<?, ?it/s]"
     ]
    },
    {
     "name": "stdout",
     "output_type": "stream",
     "text": [
      "Erreur :\n",
      "[Errno 2] No such file or directory: '/scratch/lpoughon/ManipeResultatsJuillet2022/2022-07-22T09-10-22/liste_expo.npy'\n",
      "2022-07-22T09-10-13.npy\n",
      "pas Deplacé  /scratch/lpoughon/ManipeResultatsJuillet2022/2022-07-22T09-10-13.npy /scratch/lpoughon/ManipeResultatsJuillet2022/old/2022-07-22T09-10-13.npy\n"
     ]
    },
    {
     "name": "stderr",
     "output_type": "stream",
     "text": [
      "100%|██████████████████████████████████████████████████████████| 144/144 [00:30<00:00,  4.75it/s]\n"
     ]
    },
    {
     "name": "stdout",
     "output_type": "stream",
     "text": [
      "Elapsed Time :  31.02051091194153\n",
      "2022-07-23\n"
     ]
    },
    {
     "name": "stderr",
     "output_type": "stream",
     "text": [
      "  0%|                                                                    | 0/144 [00:00<?, ?it/s]"
     ]
    },
    {
     "name": "stdout",
     "output_type": "stream",
     "text": [
      "Erreur :\n",
      "[Errno 2] No such file or directory: '/scratch/lpoughon/ManipeResultatsJuillet2022/2022-07-23T08-10-21/liste_expo.npy'\n",
      "2022-07-23T08-10-12.npy\n",
      "pas Deplacé  /scratch/lpoughon/ManipeResultatsJuillet2022/2022-07-23T08-10-12.npy /scratch/lpoughon/ManipeResultatsJuillet2022/old/2022-07-23T08-10-12.npy\n"
     ]
    },
    {
     "name": "stderr",
     "output_type": "stream",
     "text": [
      "100%|██████████████████████████████████████████████████████████| 144/144 [00:25<00:00,  5.62it/s]\n"
     ]
    },
    {
     "name": "stdout",
     "output_type": "stream",
     "text": [
      "Elapsed Time :  26.308762073516846\n",
      "2022-07-24\n"
     ]
    },
    {
     "name": "stderr",
     "output_type": "stream",
     "text": [
      "  0%|                                                                    | 0/144 [00:00<?, ?it/s]"
     ]
    },
    {
     "name": "stdout",
     "output_type": "stream",
     "text": [
      "Erreur :\n",
      "[Errno 2] No such file or directory: '/scratch/lpoughon/ManipeResultatsJuillet2022/2022-07-24T08-00-21/liste_expo.npy'\n",
      "2022-07-24T08-00-12.npy\n",
      "pas Deplacé  /scratch/lpoughon/ManipeResultatsJuillet2022/2022-07-24T08-00-12.npy /scratch/lpoughon/ManipeResultatsJuillet2022/old/2022-07-24T08-00-12.npy\n"
     ]
    },
    {
     "name": "stderr",
     "output_type": "stream",
     "text": [
      " 27%|███████████████▉                                           | 39/144 [00:15<00:36,  2.85it/s]"
     ]
    },
    {
     "name": "stdout",
     "output_type": "stream",
     "text": [
      "Erreur :\n",
      "[Errno 2] No such file or directory: '/scratch/lpoughon/ManipeResultatsJuillet2022/2022-07-24T19-00-21/liste_expo.npy'\n",
      "2022-07-24T19-00-13.npy\n",
      "pas Deplacé  /scratch/lpoughon/ManipeResultatsJuillet2022/2022-07-24T19-00-13.npy /scratch/lpoughon/ManipeResultatsJuillet2022/old/2022-07-24T19-00-13.npy\n"
     ]
    },
    {
     "name": "stderr",
     "output_type": "stream",
     "text": [
      " 45%|██████████████████████████▋                                | 65/144 [00:17<00:08,  9.20it/s]"
     ]
    },
    {
     "name": "stdout",
     "output_type": "stream",
     "text": [
      "Erreur :\n",
      "[Errno 2] No such file or directory: '/scratch/lpoughon/ManipeResultatsJuillet2022/2022-07-24T21-00-22/liste_expo.npy'\n",
      "2022-07-24T21-00-13.npy\n",
      "pas Deplacé  /scratch/lpoughon/ManipeResultatsJuillet2022/2022-07-24T21-00-13.npy /scratch/lpoughon/ManipeResultatsJuillet2022/old/2022-07-24T21-00-13.npy\n"
     ]
    },
    {
     "name": "stderr",
     "output_type": "stream",
     "text": [
      "100%|██████████████████████████████████████████████████████████| 144/144 [00:26<00:00,  5.50it/s]\n"
     ]
    },
    {
     "name": "stdout",
     "output_type": "stream",
     "text": [
      "Elapsed Time :  26.792702198028564\n",
      "2022-07-25\n"
     ]
    },
    {
     "name": "stderr",
     "output_type": "stream",
     "text": [
      "  0%|                                                                    | 0/144 [00:00<?, ?it/s]"
     ]
    },
    {
     "name": "stdout",
     "output_type": "stream",
     "text": [
      "Erreur :\n",
      "[Errno 2] No such file or directory: '/scratch/lpoughon/ManipeResultatsJuillet2022/2022-07-25T07-30-22/liste_expo.npy'\n",
      "2022-07-25T07-30-13.npy\n",
      "pas Deplacé  /scratch/lpoughon/ManipeResultatsJuillet2022/2022-07-25T07-30-13.npy /scratch/lpoughon/ManipeResultatsJuillet2022/old/2022-07-25T07-30-13.npy\n",
      "Erreur :\n",
      "[Errno 2] No such file or directory: '/scratch/lpoughon/ManipeResultatsJuillet2022/2022-07-25T07-00-21/liste_expo.npy'\n",
      "2022-07-25T07-00-12.npy\n",
      "pas Deplacé  /scratch/lpoughon/ManipeResultatsJuillet2022/2022-07-25T07-00-12.npy /scratch/lpoughon/ManipeResultatsJuillet2022/old/2022-07-25T07-00-12.npy\n"
     ]
    },
    {
     "name": "stderr",
     "output_type": "stream",
     "text": [
      "  1%|▍                                                           | 1/144 [00:07<18:55,  7.94s/it]"
     ]
    },
    {
     "name": "stdout",
     "output_type": "stream",
     "text": [
      "Erreur :\n",
      "[Errno 2] No such file or directory: '/scratch/lpoughon/ManipeResultatsJuillet2022/2022-07-25T17-20-22/liste_expo.npy'\n",
      "2022-07-25T17-20-13.npy\n",
      "pas Deplacé  /scratch/lpoughon/ManipeResultatsJuillet2022/2022-07-25T17-20-13.npy /scratch/lpoughon/ManipeResultatsJuillet2022/old/2022-07-25T17-20-13.npy\n"
     ]
    },
    {
     "name": "stderr",
     "output_type": "stream",
     "text": [
      " 28%|████████████████▍                                          | 40/144 [00:16<00:37,  2.76it/s]"
     ]
    },
    {
     "name": "stdout",
     "output_type": "stream",
     "text": [
      "Erreur :\n",
      "[Errno 2] No such file or directory: '/scratch/lpoughon/ManipeResultatsJuillet2022/2022-07-25T20-30-22/liste_expo.npy'\n",
      "2022-07-25T20-30-13.npy\n",
      "pas Deplacé  /scratch/lpoughon/ManipeResultatsJuillet2022/2022-07-25T20-30-13.npy /scratch/lpoughon/ManipeResultatsJuillet2022/old/2022-07-25T20-30-13.npy\n"
     ]
    },
    {
     "name": "stderr",
     "output_type": "stream",
     "text": [
      "100%|██████████████████████████████████████████████████████████| 144/144 [00:25<00:00,  5.73it/s]\n"
     ]
    },
    {
     "name": "stdout",
     "output_type": "stream",
     "text": [
      "Elapsed Time :  25.780578136444092\n",
      "2022-07-26\n"
     ]
    },
    {
     "name": "stderr",
     "output_type": "stream",
     "text": [
      "  0%|                                                                    | 0/144 [00:00<?, ?it/s]"
     ]
    },
    {
     "name": "stdout",
     "output_type": "stream",
     "text": [
      "Erreur :\n",
      "[Errno 2] No such file or directory: '/scratch/lpoughon/ManipeResultatsJuillet2022/2022-07-26T07-50-21/liste_expo.npy'\n",
      "2022-07-26T07-50-12.npy\n",
      "pas Deplacé  /scratch/lpoughon/ManipeResultatsJuillet2022/2022-07-26T07-50-12.npy /scratch/lpoughon/ManipeResultatsJuillet2022/old/2022-07-26T07-50-12.npy\n",
      "Erreur :\n",
      "[Errno 2] No such file or directory: '/scratch/lpoughon/ManipeResultatsJuillet2022/2022-07-26T07-10-22/liste_expo.npy'\n",
      "2022-07-26T07-10-13.npy\n",
      "pas Deplacé  /scratch/lpoughon/ManipeResultatsJuillet2022/2022-07-26T07-10-13.npy /scratch/lpoughon/ManipeResultatsJuillet2022/old/2022-07-26T07-10-13.npy\n"
     ]
    },
    {
     "name": "stderr",
     "output_type": "stream",
     "text": [
      "  1%|▊                                                           | 2/144 [00:07<07:59,  3.37s/it]"
     ]
    },
    {
     "name": "stdout",
     "output_type": "stream",
     "text": [
      "Erreur :\n",
      "[Errno 2] No such file or directory: '/scratch/lpoughon/ManipeResultatsJuillet2022/2022-07-26T11-40-22/liste_expo.npy'\n",
      "2022-07-26T11-40-13.npy\n",
      "pas Deplacé  /scratch/lpoughon/ManipeResultatsJuillet2022/2022-07-26T11-40-13.npy /scratch/lpoughon/ManipeResultatsJuillet2022/old/2022-07-26T11-40-13.npy\n",
      "Erreur :\n",
      "[Errno 2] No such file or directory: '/scratch/lpoughon/ManipeResultatsJuillet2022/2022-07-26T12-30-22/liste_expo.npy'\n",
      "2022-07-26T12-30-13.npy\n",
      "pas Deplacé  /scratch/lpoughon/ManipeResultatsJuillet2022/2022-07-26T12-30-13.npy /scratch/lpoughon/ManipeResultatsJuillet2022/old/2022-07-26T12-30-13.npy\n"
     ]
    },
    {
     "name": "stderr",
     "output_type": "stream",
     "text": [
      "  5%|██▉                                                         | 7/144 [00:09<02:03,  1.11it/s]"
     ]
    },
    {
     "name": "stdout",
     "output_type": "stream",
     "text": [
      "Erreur :\n",
      "[Errno 2] No such file or directory: '/scratch/lpoughon/ManipeResultatsJuillet2022/2022-07-26T16-40-22/liste_expo.npy'\n",
      "2022-07-26T16-40-13.npy\n",
      "pas Deplacé  /scratch/lpoughon/ManipeResultatsJuillet2022/2022-07-26T16-40-13.npy /scratch/lpoughon/ManipeResultatsJuillet2022/old/2022-07-26T16-40-13.npy\n"
     ]
    },
    {
     "name": "stderr",
     "output_type": "stream",
     "text": [
      " 27%|███████████████▉                                           | 39/144 [00:17<00:33,  3.13it/s]"
     ]
    },
    {
     "name": "stdout",
     "output_type": "stream",
     "text": [
      "Erreur :\n",
      "[Errno 2] No such file or directory: '/scratch/lpoughon/ManipeResultatsJuillet2022/2022-07-26T19-50-21/liste_expo.npy'\n",
      "2022-07-26T19-50-13.npy\n",
      "pas Deplacé  /scratch/lpoughon/ManipeResultatsJuillet2022/2022-07-26T19-50-13.npy /scratch/lpoughon/ManipeResultatsJuillet2022/old/2022-07-26T19-50-13.npy\n"
     ]
    },
    {
     "name": "stderr",
     "output_type": "stream",
     "text": [
      " 49%|████████████████████████████▋                              | 70/144 [00:22<00:13,  5.63it/s]"
     ]
    },
    {
     "name": "stdout",
     "output_type": "stream",
     "text": [
      "Erreur :\n",
      "[Errno 2] No such file or directory: '/scratch/lpoughon/ManipeResultatsJuillet2022/2022-07-26T21-00-21/liste_expo.npy'\n",
      "2022-07-26T21-00-13.npy\n",
      "pas Deplacé  /scratch/lpoughon/ManipeResultatsJuillet2022/2022-07-26T21-00-13.npy /scratch/lpoughon/ManipeResultatsJuillet2022/old/2022-07-26T21-00-13.npy\n"
     ]
    },
    {
     "name": "stderr",
     "output_type": "stream",
     "text": [
      "100%|██████████████████████████████████████████████████████████| 144/144 [00:28<00:00,  5.08it/s]\n"
     ]
    },
    {
     "name": "stdout",
     "output_type": "stream",
     "text": [
      "Elapsed Time :  28.99141573905945\n",
      "2022-07-27\n"
     ]
    },
    {
     "name": "stderr",
     "output_type": "stream",
     "text": [
      "  3%|██                                                          | 5/144 [00:08<02:55,  1.26s/it]"
     ]
    },
    {
     "name": "stdout",
     "output_type": "stream",
     "text": [
      "Erreur :\n",
      "[Errno 2] No such file or directory: '/scratch/lpoughon/ManipeResultatsJuillet2022/2022-07-27T18-20-21/liste_expo.npy'\n",
      "2022-07-27T18-20-13.npy\n",
      "pas Deplacé  /scratch/lpoughon/ManipeResultatsJuillet2022/2022-07-27T18-20-13.npy /scratch/lpoughon/ManipeResultatsJuillet2022/old/2022-07-27T18-20-13.npy\n"
     ]
    },
    {
     "name": "stderr",
     "output_type": "stream",
     "text": [
      "100%|██████████████████████████████████████████████████████████| 144/144 [00:26<00:00,  5.54it/s]\n"
     ]
    },
    {
     "name": "stdout",
     "output_type": "stream",
     "text": [
      "Elapsed Time :  26.700419187545776\n",
      "2022-07-28\n"
     ]
    },
    {
     "name": "stderr",
     "output_type": "stream",
     "text": [
      "  0%|                                                                    | 0/144 [00:00<?, ?it/s]"
     ]
    },
    {
     "name": "stdout",
     "output_type": "stream",
     "text": [
      "Erreur :\n",
      "[Errno 2] No such file or directory: '/scratch/lpoughon/ManipeResultatsJuillet2022/2022-07-28T07-40-21/liste_expo.npy'\n",
      "2022-07-28T07-40-12.npy\n",
      "pas Deplacé  /scratch/lpoughon/ManipeResultatsJuillet2022/2022-07-28T07-40-12.npy /scratch/lpoughon/ManipeResultatsJuillet2022/old/2022-07-28T07-40-12.npy\n",
      "Erreur :\n",
      "[Errno 2] No such file or directory: '/scratch/lpoughon/ManipeResultatsJuillet2022/2022-07-28T10-10-21/liste_expo.npy'\n",
      "2022-07-28T10-10-13.npy\n",
      "pas Deplacé  /scratch/lpoughon/ManipeResultatsJuillet2022/2022-07-28T10-10-13.npy /scratch/lpoughon/ManipeResultatsJuillet2022/old/2022-07-28T10-10-13.npy\n"
     ]
    },
    {
     "name": "stderr",
     "output_type": "stream",
     "text": [
      "100%|██████████████████████████████████████████████████████████| 144/144 [00:26<00:00,  5.42it/s]\n"
     ]
    },
    {
     "name": "stdout",
     "output_type": "stream",
     "text": [
      "Elapsed Time :  27.211986541748047\n",
      "2022-07-29\n"
     ]
    },
    {
     "name": "stderr",
     "output_type": "stream",
     "text": [
      "  0%|                                                                     | 0/69 [00:00<?, ?it/s]"
     ]
    },
    {
     "name": "stdout",
     "output_type": "stream",
     "text": [
      "Erreur :\n",
      "[Errno 2] No such file or directory: '/scratch/lpoughon/ManipeResultatsJuillet2022/2022-07-29T08-50-22/liste_expo.npy'\n",
      "2022-07-29T08-50-13.npy\n",
      "pas Deplacé  /scratch/lpoughon/ManipeResultatsJuillet2022/2022-07-29T08-50-13.npy /scratch/lpoughon/ManipeResultatsJuillet2022/old/2022-07-29T08-50-13.npy\n"
     ]
    },
    {
     "name": "stderr",
     "output_type": "stream",
     "text": [
      "100%|████████████████████████████████████████████████████████████| 69/69 [00:13<00:00,  5.30it/s]\n"
     ]
    },
    {
     "name": "stdout",
     "output_type": "stream",
     "text": [
      "Elapsed Time :  13.6376051902771\n"
     ]
    }
   ],
   "source": [
    "for key in sorted_filenames_dict:\n",
    "    print(key)\n",
    "    tic=time.time()\n",
    "    liste_jour=sorted_filenames_dict[key]\n",
    "    num_processes=32*2\n",
    "    results = (p_map(process_acq ,liste_jour,num_cpus=num_processes,tqdm=tqdm)) #[15000:15500:10]\n",
    "    results = np.array([sublist for sublists in results for sublist in sublists if sublist is not None])\n",
    "    np.save(out_path+key+\"_raw.npy\",results)\n",
    "    print(\"Elapsed Time : \",time.time()-tic)\n"
   ]
  },
  {
   "cell_type": "code",
   "execution_count": null,
   "id": "edc55856-8070-4816-8ff8-473f985638f7",
   "metadata": {},
   "outputs": [],
   "source": []
  }
 ],
 "metadata": {
  "kernelspec": {
   "display_name": "Python 3 (ipykernel)",
   "language": "python",
   "name": "python3"
  },
  "language_info": {
   "codemirror_mode": {
    "name": "ipython",
    "version": 3
   },
   "file_extension": ".py",
   "mimetype": "text/x-python",
   "name": "python",
   "nbconvert_exporter": "python",
   "pygments_lexer": "ipython3",
   "version": "3.9.6"
  }
 },
 "nbformat": 4,
 "nbformat_minor": 5
}
